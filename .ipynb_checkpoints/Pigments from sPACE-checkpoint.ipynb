{
 "cells": [
  {
   "cell_type": "markdown",
   "id": "3a449552-4173-4430-b2d4-78fd12ba25b9",
   "metadata": {},
   "source": [
    "Pigments from sPACE\n",
    "\n",
    "PACE's OCI instrument has novel hyperspectral capabilities. Historically, distinguishing between species, functional groups, and pigments was difficult due to the multi-spectral nature of the available instruments, which collected spectra, but with gaps. PACE fills these gaps and provides complete spectra that allows for the distinguishment between oceanic bio-optical parameters.\n",
    "\n",
    "There are many pigments involved in photosynthesis. The pigments that are utilized by different phytoplankton functional groups and species relates to their biology and ecology where different pigments are more utilized for certain niches than others. These pigments have unique spectral signatures that can be captured and differentiated spatially. \n",
    "\n",
    "Tremendous credit to Ali Chase as well as Emmanuel Boss, Ivona Cetinic, Wayne Slade, and Max Danenhower who created a Gaussian pigment estimation method that pulls salinity data from SMAP and temperature data from GHRSST, and uses it with PACE rrs data to estimate the concentration of chlorophyll pigments a, b, and c, as well as the concentration of photoprotective carotenoids for each pixel of PACE data. This was averaged for segments of three days. The data was then plotted where each pixel was represented by the concentration of the dominant pigment from the three-day average. Additionally, the bloom region indivudal pigment concentrations were averaged over the area to create bar plots."
   ]
  },
  {
   "cell_type": "code",
   "execution_count": null,
   "id": "92c337a0-276e-4d0f-80d2-dc41e02e6e69",
   "metadata": {},
   "outputs": [],
   "source": [
    "# Create earthaccess connection\n",
    "import earthaccess\n",
    "auth = earthaccess.login(persist=True)"
   ]
  },
  {
   "cell_type": "code",
   "execution_count": null,
   "id": "a3904cf0-0c63-4fe4-bc7f-fe044838a5ae",
   "metadata": {},
   "outputs": [],
   "source": [
    "# Import your packages\n",
    "# Some require pip install even if working in the CryoCloud\n",
    "import utilspackagepace as utils\n",
    "import rrs_inversion_pigments\n",
    "import xarray\n",
    "import numpy\n",
    "import matplotlib\n",
    "import matplotlib.pyplot as plt\n",
    "from matplotlib.colors import ListedColormap"
   ]
  },
  {
   "cell_type": "code",
   "execution_count": null,
   "id": "334cedf7-ba06-44de-b7da-f3b92e4b1145",
   "metadata": {},
   "outputs": [],
   "source": [
    "# Downloading rrs data from PACE (L3m, daily), salinity data from SMAP (L3, 8days), and temperature data from GHRSST (L4)\n",
    "# Can customize temporal span and spatial resolution (options are 1deg, 0p1deg, 4km)\n",
    "# Creates rrs_paths, sal_paths, and temp_paths folders in the operating folder to pull data in\n",
    "rrs_paths, sal_paths, temp_paths = utils.load_data(('2024-07-07', '2024-07-09'), '4km')"
   ]
  },
  {
   "cell_type": "code",
   "execution_count": null,
   "id": "3f3bbd3c-cd4d-40f3-9ecf-cdd3aa6f8495",
   "metadata": {},
   "outputs": [],
   "source": [
    "# Reads file names from PosixPath for each of the PACE images that fit the filters above and were downloaded\n",
    "rrs_paths"
   ]
  },
  {
   "cell_type": "code",
   "execution_count": null,
   "id": "4f7af475-ad81-466d-89a1-ecf12a007045",
   "metadata": {},
   "outputs": [],
   "source": [
    "# Reads file names from PosixPath for each of the SMAP images that fit the filters above and were downloaded\n",
    "# Some downlaoded before/after the date range\n",
    "sal_paths"
   ]
  },
  {
   "cell_type": "code",
   "execution_count": null,
   "id": "4ed689a4-23e0-45b9-8963-7b91bb255167",
   "metadata": {},
   "outputs": [],
   "source": [
    "# Reads file names from PosixPath for each of the GHRSST images that fit the filters above and were downloaded\n",
    "# Some downlaoded before/after the date range\n",
    "temp_paths"
   ]
  },
  {
   "cell_type": "code",
   "execution_count": null,
   "id": "b8b2e412-bd60-47bf-bbba-db872d5302b2",
   "metadata": {},
   "outputs": [],
   "source": [
    "# Creating an xarray dataset from rrs, sal, and temp files of the average values over the time period\n",
    "# Define own coordinate region of ##N, ##S, ###W, ###E\n",
    "avg_dataset = utils.create_dataset(rrs_paths, sal_paths, temp_paths, 28.5, 25.5, -160, -157)\n",
    "# Reads the dataset\n",
    "avg_dataset"
   ]
  },
  {
   "cell_type": "code",
   "execution_count": null,
   "id": "91bcf375-6c8d-461d-ad18-6b7d4c7831dc",
   "metadata": {},
   "outputs": [],
   "source": [
    "# Puts average values through algorithm\n",
    "# Have to create a \"pigments\" folder in the operating folder for data to be deposited\n",
    "# Also requires resources folder with Sullivan csv look-up table\n",
    "pigments = utils.calculate_pigments(avg_dataset)\n",
    "pigments"
   ]
  },
  {
   "cell_type": "code",
   "execution_count": null,
   "id": "121eed44-1499-4432-8f6d-57b0ea8cff35",
   "metadata": {},
   "outputs": [],
   "source": [
    "# Creates a netcdf file of averaged pigment data\n",
    "# Puts file in \"pigments\" folder (needs to be created)\n",
    "# Enumerate \"wash_coast\" if completing series more than once\n",
    "pigments.to_netcdf('pigments/wash_coast')"
   ]
  },
  {
   "cell_type": "code",
   "execution_count": null,
   "id": "e308830a-75c3-4237-af5e-78c4a59c19cc",
   "metadata": {},
   "outputs": [],
   "source": [
    "# Pigments data becomes referenced as an xarray dataset for use\n",
    "# Reads dataset\n",
    "pigments = xarray.open_dataset('pigments/wash_coast')\n",
    "pigments"
   ]
  },
  {
   "cell_type": "code",
   "execution_count": null,
   "id": "ce99e4ae-13f6-4ec4-a51d-774669892f6c",
   "metadata": {},
   "outputs": [],
   "source": [
    "# PLots concentration of chlorophyll (a, b, c) or photoprotective carotenoids on a color map\n",
    "# Can be repeated with any chlorophyll pigment or for PPC by using 'ppc'\n",
    "chla = pigments['chla']\n",
    "utils.plot_pigments(pigments['chla'], 0, 0.08, 'chla (mg/m^3)')"
   ]
  },
  {
   "cell_type": "code",
   "execution_count": null,
   "id": "d8d44e2f-8cae-48c4-9da1-02e1e5c033e4",
   "metadata": {},
   "outputs": [],
   "source": [
    "# Mapping all of the pigments on one plot\n",
    "# Each pixel will represent the concentration of the pigment with the highest average concentration relative to the two other pigments\n",
    "# Continued in following cells\n",
    "\n",
    "# Creating masks for each pigment dominance\n",
    "# The masks themselves will be plotted so that pixels where that pigment average concentration is lower than that of the other two, it will be masked out\n",
    "# The individual pigments will only be shown in pixels where its average is highest\n",
    "# Works for three pigment groups\n",
    "# PPC was excluded as most phytoplankton have photoprotective carotenoids, and does not necessarily represent the diversity that can be captured from hyperspectral data\n",
    "mask_chla = (pigments['chla'] > pigments['chlb']) & (pigments['chla'] > pigments['chlc'])\n",
    "mask_chlb = (pigments['chlb'] >= pigments['chla']) & (pigments['chlb'] > pigments['chlc'])\n",
    "mask_chlc = (pigments['chlc'] >= pigments['chla']) & (pigments['chlc'] > pigments['chlb'])"
   ]
  },
  {
   "cell_type": "code",
   "execution_count": null,
   "id": "c759a085-4889-424f-8311-7b4944f124bb",
   "metadata": {},
   "outputs": [],
   "source": [
    "# Creating colormaps for each pigment\n",
    "# Allows for display of concentration gradient for each pigment on the same plot\n",
    "cmap_chla = plt.cm.Greens # Green gradient for chla\n",
    "cmap_chlb = plt.cm.Reds # Red gradient for chlb\n",
    "cmap_chlc = plt.cm.Blues # Blue gradient for chlc"
   ]
  },
  {
   "cell_type": "code",
   "execution_count": null,
   "id": "a55ffe8f-f241-4d22-865e-f08fefffa125",
   "metadata": {},
   "outputs": [],
   "source": [
    "# Creating a plot for the data\n",
    "# Not sure if this is needed so double check ***\n",
    "fig, ax = plt.subplots(figsize=(8, 4))"
   ]
  },
  {
   "cell_type": "code",
   "execution_count": null,
   "id": "e90bfdf5-0dc3-4c01-a0fe-90032e627a8a",
   "metadata": {},
   "outputs": [],
   "source": [
    "# Pulling in data to the plot as an application of the mask for all three pigments\n",
    "# Applies colormap\n",
    "# Adds colorbar (if added separately, it is improperly formatted)\n",
    "# Sets vmin and vmax to create the same concentration scale for each pigment (0, 0.08) for accurate comparison\n",
    "chla_plot = pigments['chla'].where(mask_chla).plot.imshow(cmap=cmap_chla, add_colorbar=True, ax=ax, vmin(0), vmax=(0.08))\n",
    "chlb_plot = pigments['chlb'].where(mask_chlb).plot.imshow(cmap=cmap_chlb, add_colorbar=True, ax=ax, vmin(0), vmax=(0.08))\n",
    "chlc_plot = pigments['chlc'].where(mask_chlc_.plot.imshow(cmap=cmap_chlc, add_colorbar=True, ax=ax, vmin(0), vmax=(0.08))"
   ]
  },
  {
   "cell_type": "code",
   "execution_count": null,
   "id": "d14e0f0c-ce3f-44c0-b23d-c642441a309b",
   "metadata": {},
   "outputs": [],
   "source": [
    "# Format the plot\n",
    "# Show the plot\n",
    "plt.title('Dominant Pigment Concentration')\n",
    "plt.xlabel('Longitude')\n",
    "plt.ylabel('Latitude')\n",
    "plt.show()"
   ]
  },
  {
   "cell_type": "code",
   "execution_count": null,
   "id": "e5b263e7-d57d-459e-84b0-954d32423ef6",
   "metadata": {},
   "outputs": [],
   "source": [
    "# The following creates a bar plot of the chla, chlb, and chlc concentrations \n",
    "# for the time and space specified\n",
    "\n",
    "# Defining variables to do the averages from the .nc \n",
    "# printing Individual pigment averages\n",
    "# Printing string averages\n",
    "stats = xarray.open_dataset('pigments/wash_coast')\n",
    "statvariableA = stats['chla']\n",
    "statvariableB = stats['chlb']\n",
    "statvariableC = stats['chlc']\n",
    "stataverageA = statvariableA.mean().item()\n",
    "stataverageB = statvariableB.mean().item()\n",
    "stataverageC = statvariableC.mean().item()\n",
    "print(stataverageA)\n",
    "print(stataverageB)\n",
    "print(stataverageC)\n",
    "stataverages = [stataverageA, stataverageB, stataverageC]\n",
    "print(stataverages)"
   ]
  },
  {
   "cell_type": "code",
   "execution_count": null,
   "id": "ead64444-67dd-44f3-afbf-a10f49f08be3",
   "metadata": {},
   "outputs": [],
   "source": [
    "# Creating the bar plot and formatting\n",
    "labels = ['chla average', 'chlb average', 'chlc average']\n",
    "plt.figure(figsize=(8, 6))\n",
    "plt.bar(labels, july28averages, color=['green', 'red', 'blue'])\n",
    "plt.title('Bar Plot of chla, chlb, and chlc Averages for July 28-30 in Bloom Region')\n",
    "plt.xlabel('Pigments')\n",
    "plt.ylabel('Average Values (mg/m^3)')\n",
    "plt.ylim(0, 0.05)\n",
    "plt.show()"
   ]
  }
 ],
 "metadata": {
  "kernelspec": {
   "display_name": "Python 3 (ipykernel)",
   "language": "python",
   "name": "python3"
  },
  "language_info": {
   "codemirror_mode": {
    "name": "ipython",
    "version": 3
   },
   "file_extension": ".py",
   "mimetype": "text/x-python",
   "name": "python",
   "nbconvert_exporter": "python",
   "pygments_lexer": "ipython3",
   "version": "3.10.14"
  }
 },
 "nbformat": 4,
 "nbformat_minor": 5
}
